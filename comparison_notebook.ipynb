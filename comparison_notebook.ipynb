import pandas as pd
import matplotlib.pyplot as plt
import seaborn as sns
import glob
import os

# Load results
results = []
for layer in range(10, 20):
    sim_file = f"comparison_results/layer_pruning/models_vs_similarity_layer{layer}_10/comparison_summary.csv"
    rand_file = f"comparison_results/layer_pruning/models_vs_random_layer{layer}_10/comparison_summary.csv"
    
    if os.path.exists(sim_file) and os.path.exists(rand_file):
        sim_df = pd.read_csv(sim_file)
        rand_df = pd.read_csv(rand_file)
        
        # Find match percentage column
        sim_col = [col for col in sim_df.columns if 'Match' in col][0]
        rand_col = [col for col in rand_df.columns if 'Match' in col][0]
        
        results.append({
            'Layer': layer,
            'Similarity': sim_df[sim_col].iloc[0],
            'Random': rand_df[rand_col].iloc[0],
            'Difference': sim_df[sim_col].iloc[0] - rand_df[rand_col].iloc[0]
        })

# Create DataFrame
comparison_df = pd.DataFrame(results)

# Plot comparison
plt.figure(figsize=(12, 6))
sns.lineplot(data=comparison_df, x='Layer', y='Similarity', marker='o', label='Similarity Pruning')
sns.lineplot(data=comparison_df, x='Layer', y='Random', marker='s', label='Random Pruning')
plt.title('Similarity vs Random Pruning: Match Percentage by Layer')
plt.xlabel('Layer')
plt.ylabel('Match Percentage (%)')
plt.grid(True, alpha=0.3)
plt.legend()
plt.show()

# Plot difference
plt.figure(figsize=(12, 6))
bars = plt.bar(comparison_df['Layer'], comparison_df['Difference'], 
               color=['green' if x > 0 else 'red' for x in comparison_df['Difference']])
plt.axhline(y=0, color='black', linestyle='-', alpha=0.3)
plt.title('Similarity - Random: Difference in Match Percentage')
plt.xlabel('Layer')
plt.ylabel('Difference (%)')
plt.grid(axis='y', alpha=0.3)

# Add value labels
for bar in bars:
    height = bar.get_height()
    plt.text(bar.get_x() + bar.get_width()/2., 
             height + (0.5 if height > 0 else -1.5),
             f"{height:.1f}%", 
             ha='center')

plt.show()

# Summary statistics
print("Summary Statistics:")
print(f"Average Match % - Similarity: {comparison_df['Similarity'].mean():.2f}%")
print(f"Average Match % - Random: {comparison_df['Random'].mean():.2f}%")
print(f"Average Difference: {comparison_df['Difference'].mean():.2f}%")
print(f"Layers where Similarity is better: {comparison_df[comparison_df['Difference'] > 0]['Layer'].tolist()}")
print(f"Layers where Random is better: {comparison_df[comparison_df['Difference'] < 0]['Layer'].tolist()}")