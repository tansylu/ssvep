{
 "cells": [
  {
   "cell_type": "code",
   "execution_count": null,
   "metadata": {
    "colab": {
     "base_uri": "https://localhost:8080/"
    },
    "id": "taqcv4_Ookul",
    "outputId": "10da88e2-712b-439a-f16d-fc48ca1db4f2"
   },
   "outputs": [],
   "source": [
    "# # IMPORTANT: RUN THIS CELL IN ORDER TO IMPORT YOUR KAGGLE DATA SOURCES,\n",
    "# # THEN FEEL FREE TO DELETE THIS CELL.\n",
    "# # NOTE: THIS NOTEBOOK ENVIRONMENT DIFFERS FROM KAGGLE'S PYTHON\n",
    "# # ENVIRONMENT SO THERE MAY BE MISSING LIBRARIES USED BY YOUR\n",
    "# # NOTEBOOK.\n",
    "# import kagglehub\n",
    "# crawford_vgg16_path = kagglehub.dataset_download('crawford/vgg16')\n",
    "# alxmamaev_flowers_recognition_path = kagglehub.dataset_download('alxmamaev/flowers-recognition')\n",
    "# print(alxmamaev_flowers_recognition_path)\n",
    "# print('Data source import complete.')\n"
   ]
  },
  {
   "cell_type": "markdown",
   "metadata": {
    "id": "Z2SV-UFbokum"
   },
   "source": [
    "# VGGNet Complete Architecture"
   ]
  },
  {
   "cell_type": "code",
   "execution_count": null,
   "metadata": {
    "id": "P7JYkrM6o80_"
   },
   "outputs": [],
   "source": []
  },
  {
   "cell_type": "markdown",
   "metadata": {
    "id": "wLWQpbbmokum"
   },
   "source": [
    "### This notebook is a part of state-of-the-art Deep Learning Models Discussion.<br> This is third notebook in the series.<br>\n",
    "> Visit here: [SOTA Papers Discussion](https://www.kaggle.com/general/166349)<br>\n",
    "> Sample data used for demo: [Dataset](https://www.kaggle.com/alxmamaev/flowers-recognition)<br>\n",
    "> Read my other notebooks: [Notebooks](https://www.kaggle.com/blurredmachine/notebooks)<br>\n",
    "> SOTA Model Notebooks have been released earlier. [View previous notebooks](https://www.kaggle.com/general/166349)<br>"
   ]
  },
  {
   "cell_type": "markdown",
   "metadata": {
    "id": "BOPVEEXwokun"
   },
   "source": [
    "![VGGNet](https://www.researchgate.net/publication/335353308/figure/fig2/AS:795069422522368@1566570730026/The-architecture-of-the-beamforming-deep-neural-network.ppm)"
   ]
  },
  {
   "cell_type": "markdown",
   "metadata": {
    "id": "JDD-NXJOokun"
   },
   "source": [
    "## Introduction on VGGNet\n",
    "The full name of VGG is the **Visual Geometry Group**, which belongs to the Department of Science and Engineering of Oxford University. It has released a series of convolutional network models beginning with VGG, which can be applied to face recognition and image classification, from VGG16 to VGG19. The original purpose of VGG's research on the depth of convolutional networks is to understand how the depth of convolutional networks affects the accuracy and accuracy of large-scale image classification and recognition. -Deep-16 CNN), in order to deepen the number of network layers and to avoid too many parameters, a small 3x3 convolution kernel is used in all layers.\n",
    "\n",
    "<a href=\"http://ethereon.github.io/netscope/#/gist/dc5003de6943ea5a6b8b\" target=\"_blank\">Network Structure of VGG19</a>"
   ]
  },
  {
   "cell_type": "markdown",
   "metadata": {
    "id": "F7-6jJRZokun"
   },
   "source": [
    "## The network structure\n",
    "- The input of VGG is set to an RGB image of 224x244 size. The average RGB value is calculated for all images on the training set image, and then the image is input as an input to the VGG convolution network. A 3x3 or 1x1 filter is used, and the convolution step is fixed. . There are 3 VGG fully connected layers, which can vary from VGG11 to VGG19 according to the total number of convolutional layers + fully connected layers. The minimum VGG11 has 8 convolutional layers and 3 fully connected layers. The maximum VGG19 has 16 convolutional layers. +3 fully connected layers. In addition, the VGG network is not followed by a pooling layer behind each convolutional layer, or a total of 5 pooling layers distributed under different convolutional layers. The following figure is VGG Structure diagram:\n"
   ]
  },
  {
   "cell_type": "markdown",
   "metadata": {
    "id": "eeCEAzteokun"
   },
   "source": [
    "![title](https://raw.githubusercontent.com/blurred-machine/Data-Science/master/Deep%20Learning%20SOTA/img/vgg.png)"
   ]
  },
  {
   "cell_type": "markdown",
   "metadata": {
    "id": "Vv0YtgP4okun"
   },
   "source": [
    "![config](https://raw.githubusercontent.com/blurred-machine/Data-Science/master/Deep%20Learning%20SOTA/img/network.png)"
   ]
  },
  {
   "cell_type": "markdown",
   "metadata": {
    "id": "yb1YK327okun"
   },
   "source": [
    "- VGG16 contains 16 layers and VGG19 contains 19 layers. A series of VGGs are exactly the same in the last three fully connected layers. The overall structure includes 5 sets of convolutional layers, followed by a MaxPool. The difference is that more and more cascaded convolutional layers are included in the five sets of convolutional layers .\n",
    "\n",
    "![config](https://raw.githubusercontent.com/blurred-machine/Data-Science/master/Deep%20Learning%20SOTA/img/config2.jpg)\n",
    "\n",
    "\n",
    "- Each convolutional layer in AlexNet contains only one convolution, and the size of the convolution kernel is 7 * 7 ,. In VGGNet, each convolution layer contains 2 to 4 convolution operations. The size of the convolution kernel is 3 * 3, the convolution step size is 1, the pooling kernel is 2 * 2, and the step size is 2. The most obvious improvement of VGGNet is to reduce the size of the convolution kernel and increase the number of convolution layers.\n",
    "\n",
    "\n",
    "![config](https://raw.githubusercontent.com/blurred-machine/Data-Science/master/Deep%20Learning%20SOTA/img/config3.jpg)\n",
    "\n",
    "\n",
    "- Using multiple convolution layers with smaller convolution kernels instead of a larger convolution layer with convolution kernels can reduce parameters on the one hand, and the author believes that it is equivalent to more non-linear mapping, which increases the Fit expression ability.\n",
    "\n",
    "![config](https://raw.githubusercontent.com/blurred-machine/Data-Science/master/Deep%20Learning%20SOTA/img/config4.png)\n",
    "\n",
    "- Two consecutive 3 * 3 convolutions are equivalent to a 5 * 5 receptive field, and three are equivalent to 7 * 7. The advantages of using three 3 * 3 convolutions instead of one 7 * 7 convolution are twofold : one, including three ReLu layers instead of one , makes the decision function more discriminative; and two, reducing parameters . For example, the input and output are all C channels. 3 convolutional layers using 3 * 3 require 3 (3 * 3 * C * C) = 27 * C * C, and 1 convolutional layer using 7 * 7 requires 7 * 7 * C * C = 49C * C. This can be seen as applying a kind of regularization to the 7 * 7 convolution, so that it is decomposed into three 3 * 3 convolutions.\n",
    "\n",
    "- The 1 * 1 convolution layer is mainly to increase the non-linearity of the decision function without affecting the receptive field of the convolution layer. Although the 1 * 1 convolution operation is linear, ReLu adds non-linearity."
   ]
  },
  {
   "cell_type": "markdown",
   "metadata": {
    "id": "QtWaPYmLokun"
   },
   "source": [
    "## Network Configuration\n",
    "\n",
    "- Table 1 shows all network configurations. These networks follow the same design principles, but differ in depth.\n",
    "\n",
    "![config](https://raw.githubusercontent.com/blurred-machine/Data-Science/master/Deep%20Learning%20SOTA/img/netconvgg.png)\n",
    "\n",
    "- This picture is definitely used when introducing VGG16. This picture contains a lot of information. My interpretation here may be limited. If you have any supplements, please leave a message.\n",
    "\n",
    "* **Number 1** : This is a comparison chart of 6 networks. From A to E, the network is getting deeper. Several layers have been added to verify the effect.\n",
    "\n",
    "* **Number 2** : Each column explains the structure of each network in detail.\n",
    "\n",
    "* **Number 3**: This is a correct way to do experiments, that is, use the simplest method to solve the problem , and then gradually optimize for the problems that occur.\n",
    "\n",
    "**Network A**: First mention a shallow network, this network can easily converge on ImageNet.\n",
    "And then?<br>\n",
    "**Network A-LRN**: Add something that someone else (AlexNet) has experimented to say is effective (LRN), but it seems useless.\n",
    "And then?<br>\n",
    "**Network B**: Then try adding 2 layers? Seems to be effective.\n",
    "And then?<br>\n",
    "**Network C**: Add two more layers of 1 * 1 convolution, and it will definitely converge. The effect seems to be better. A little excited.\n",
    "And then?<br>\n",
    "**Network D**: Change the 1 * 1 convolution kernel to 3 * 3. Try it. The effect has improved again. Seems to be the best (2014)."
   ]
  },
  {
   "cell_type": "markdown",
   "metadata": {
    "id": "X3x6EYhRokuo"
   },
   "source": [
    "## Training\n",
    "\n",
    "- **The optimization method** is a stochastic gradient descent SGD + momentum (0.9) with momentum.\n",
    "The batch size is 256.\n",
    "\n",
    "- **Regularization** : L2 regularization is used, and the weight decay is 5e-4. Dropout is after the first two fully connected layers, p = 0.5.\n",
    "\n",
    "- Although it is deeper and has more parameters than the AlexNet network, we speculate that VGGNet can converge in less cycles for two reasons: one, the greater depth and smaller convolutions bring implicit regularization ; Second, some layers of pre-training.\n",
    "\n",
    "- **Parameter initialization** : For a shallow A network, parameters are randomly initialized, the weight w is sampled from N (0, 0.01), and the bias is initialized to 0. Then, for deeper networks, first the first four convolutional layers and three fully connected layers are initialized with the parameters of the A network. However, it was later discovered that it is also possible to directly initialize it without using pre-trained parameters.\n",
    "\n",
    "- In order to obtain a 224 * 224 input image, each rescaled image is randomly cropped in each SGD iteration. In order to enhance the data set, the cropped image is also randomly flipped horizontally and RGB color shifted.\n",
    "\n"
   ]
  },
  {
   "cell_type": "markdown",
   "metadata": {
    "id": "bRqD_rGZokuo"
   },
   "source": [
    "## Summary of VGGNet improvement points\n",
    "\n",
    "1. A smaller 3 * 3 convolution kernel and a deeper network are used . The stack of two 3 * 3 convolution kernels is relative to the field of view of a 5 * 5 convolution kernel, and the stack of three 3 * 3 convolution kernels is equivalent to the field of view of a 7 * 7 convolution kernel. In this way, there can be fewer parameters (3 stacked 3 * 3 structures have only 7 * 7 structural parameters (3 * 3 * 3) / (7 * 7) = 55%); on the other hand, they have more The non-linear transformation increases the ability of CNN to learn features.\n",
    "\n",
    "2. In the convolutional structure of VGGNet, a 1 * 1 convolution kernel is introduced. Without affecting the input and output dimensions, non-linear transformation is introduced to increase the expressive power of the network and reduce the amount of calculation.\n",
    "\n",
    "3. During training, first train a simple (low-level) VGGNet A-level network, and then use the weights of the A network to initialize the complex models that follow to speed up the convergence of training .\n"
   ]
  },
  {
   "cell_type": "markdown",
   "metadata": {
    "id": "A6GO-mk2okuo"
   },
   "source": [
    "## Some basic FAQs\n",
    "\n",
    "**Q1: Why can 3 3x3 convolutions replace 7x7 convolutions?**\n",
    "\n",
    "***Answer 1***<br>\n",
    "3 3x3 convolutions, using 3 non-linear activation functions, increasing non-linear expression capabilities, making the segmentation plane more separable\n",
    "Reduce the number of parameters. For the convolution kernel of C channels, 7x7 contains parameters , and the number of 3 3x3 parameters is greatly reduced.\n",
    "\n",
    "\n",
    "**Q2: The role of 1x1 convolution kernel**\n",
    "\n",
    "***Answer 2***<br>\n",
    "Increase the nonlinearity of the model without affecting the receptive field\n",
    "1x1 winding machine is equivalent to linear transformation, and the non-linear activation function plays a non-linear role\n",
    "\n",
    "\n",
    "**Q3: The effect of network depth on results (in the same year, Google also independently released the network GoogleNet with a depth of 22 layers)**\n",
    "\n",
    "***Answer 3***<br>\n",
    "VGG and GoogleNet models are deep\n",
    "Small convolution\n",
    "VGG only uses 3x3, while GoogleNet uses 1x1, 3x3, 5x5, the model is more complicated (the model began to use a large convolution kernel to reduce the calculation of the subsequent machine layer)\n"
   ]
  },
  {
   "cell_type": "markdown",
   "metadata": {
    "id": "gXlHoS7yokuo"
   },
   "source": [
    "## VGG-16 Code Implementation"
   ]
  },
  {
   "cell_type": "markdown",
   "metadata": {
    "id": "9AE0ue85okuo"
   },
   "source": [
    "### Importing Libraries"
   ]
  },
  {
   "cell_type": "code",
   "execution_count": null,
   "metadata": {
    "id": "lOuj_Uejokuo",
    "trusted": true
   },
   "outputs": [],
   "source": [
    "from tensorflow.keras.layers import Input, Conv2D, MaxPooling2D\n",
    "from tensorflow.keras.layers import Dense, Flatten\n",
    "from tensorflow.keras.models import Model"
   ]
  },
  {
   "cell_type": "markdown",
   "metadata": {
    "id": "p05YT6Yuokuo"
   },
   "source": [
    "### Defining input image shape"
   ]
  },
  {
   "cell_type": "code",
   "execution_count": null,
   "metadata": {
    "id": "zyH4QlIeokuo",
    "trusted": true
   },
   "outputs": [],
   "source": [
    "_input = Input((224,224,1))"
   ]
  },
  {
   "cell_type": "markdown",
   "metadata": {
    "id": "AELE34Gaokuo"
   },
   "source": [
    "### Building a VGG-16 model"
   ]
  },
  {
   "cell_type": "code",
   "execution_count": null,
   "metadata": {
    "id": "W3mQEcKmokuo",
    "trusted": true
   },
   "outputs": [],
   "source": [
    "conv1  = Conv2D(filters=64, kernel_size=(3,3), padding=\"same\", activation=\"relu\")(_input)\n",
    "conv2  = Conv2D(filters=64, kernel_size=(3,3), padding=\"same\", activation=\"relu\")(conv1)\n",
    "pool1  = MaxPooling2D((2, 2))(conv2)\n",
    "\n",
    "conv3  = Conv2D(filters=128, kernel_size=(3,3), padding=\"same\", activation=\"relu\")(pool1)\n",
    "conv4  = Conv2D(filters=128, kernel_size=(3,3), padding=\"same\", activation=\"relu\")(conv3)\n",
    "pool2  = MaxPooling2D((2, 2))(conv4)\n",
    "\n",
    "conv5  = Conv2D(filters=256, kernel_size=(3,3), padding=\"same\", activation=\"relu\")(pool2)\n",
    "conv6  = Conv2D(filters=256, kernel_size=(3,3), padding=\"same\", activation=\"relu\")(conv5)\n",
    "conv7  = Conv2D(filters=256, kernel_size=(3,3), padding=\"same\", activation=\"relu\")(conv6)\n",
    "pool3  = MaxPooling2D((2, 2))(conv7)\n",
    "\n",
    "conv8  = Conv2D(filters=512, kernel_size=(3,3), padding=\"same\", activation=\"relu\")(pool3)\n",
    "conv9  = Conv2D(filters=512, kernel_size=(3,3), padding=\"same\", activation=\"relu\")(conv8)\n",
    "conv10 = Conv2D(filters=512, kernel_size=(3,3), padding=\"same\", activation=\"relu\")(conv9)\n",
    "pool4  = MaxPooling2D((2, 2))(conv10)\n",
    "\n",
    "conv11 = Conv2D(filters=512, kernel_size=(3,3), padding=\"same\", activation=\"relu\")(pool4)\n",
    "conv12 = Conv2D(filters=512, kernel_size=(3,3), padding=\"same\", activation=\"relu\")(conv11)\n",
    "conv13 = Conv2D(filters=512, kernel_size=(3,3), padding=\"same\", activation=\"relu\")(conv12)\n",
    "pool5  = MaxPooling2D((2, 2))(conv13)\n",
    "\n",
    "flat   = Flatten()(pool5)\n",
    "dense1 = Dense(4096, activation=\"relu\")(flat)\n",
    "dense2 = Dense(4096, activation=\"relu\")(dense1)\n",
    "output = Dense(1000, activation=\"softmax\")(dense2)\n",
    "\n",
    "vgg16_model  = Model(inputs=_input, outputs=output)"
   ]
  },
  {
   "cell_type": "markdown",
   "metadata": {
    "id": "ysWIqOLXokuo"
   },
   "source": [
    "### Working with pretrained model\n",
    "\n",
    "- Keras library also provides the pre-trained model in which one can load the saved model weights, and use them for different purposes : transfer learning, image feature extraction, and object detection. We can load the model architecture given in the library, and then add all the weights to the respective layers.\n",
    "\n",
    "- Before using the pretrained models, lets write a few functions which will be used to make some predictions. First, load some images and preprocess them."
   ]
  },
  {
   "cell_type": "code",
   "execution_count": null,
   "metadata": {},
   "outputs": [],
   "source": [
    "from keras.applications.vgg16 import VGG16, decode_predictions, preprocess_input\n",
    "from keras.preprocessing import image\n",
    "from keras.models import Model\n",
    "import matplotlib.pyplot as plt\n",
    "from PIL import Image, ImageDraw, ImageFont\n",
    "import seaborn as sns\n",
    "import pandas as pd\n",
    "import numpy as np\n",
    "import os\n",
    "import cv2\n",
    "from flicker_img_whole import flicker_img\n",
    "# Load the VGG16 model\n",
    "vgg16_weights = 'vgg16_weights_tf_dim_ordering_tf_kernels.h5'\n",
    "vgg16_model = VGG16(weights=vgg16_weights)\n",
    "\n",
    "# Create a new model that outputs the activations of all convolutional layers\n",
    "layer_outputs = [layer.output for layer in vgg16_model.layers if 'conv' in layer.name]\n",
    "activation_model = Model(inputs=vgg16_model.input, outputs=layer_outputs)\n",
    "\n",
    "def _get_activations(model, frames):\n",
    "    activations = []\n",
    "    for i, frame in enumerate(frames):\n",
    "        img_array = cv2.resize(frame, (224, 224))  # Resize to VGG16 input size\n",
    "        x = np.expand_dims(img_array, axis=0)\n",
    "        x = preprocess_input(x)\n",
    "        layer_activations = model.predict(x)\n",
    "        activations.append(layer_activations)\n",
    "    return activations\n",
    "\n",
    "def save_activations(activations, output_dir):\n",
    "    if not os.path.exists(output_dir):\n",
    "        os.makedirs(output_dir)\n",
    "    for i, frame_activations in enumerate(activations):\n",
    "        for layer_idx, layer_activation in enumerate(frame_activations):\n",
    "            np.save(os.path.join(output_dir, f'frame_{i}_layer_{layer_idx}.npy'), layer_activation)\n",
    "\n",
    "# Example usage\n",
    "frames = flicker_img('s.jpeg', 5, 'output_animation_whole.gif')\n",
    "activations = _get_activations(activation_model, frames)\n",
    "save_activations(activations, 'activations_output')"
   ]
  },
  {
   "cell_type": "code",
   "execution_count": null,
   "metadata": {},
   "outputs": [],
   "source": [
    "import os\n",
    "import matplotlib.pyplot as plt\n",
    "\n",
    "def plot_activations(activations, output_dir, layer_number):\n",
    "    if not os.path.exists(output_dir):\n",
    "        os.makedirs(output_dir)\n",
    "    \n",
    "    for frame_idx, frame_activations in enumerate(activations):\n",
    "        layer_activation = frame_activations[layer_number]\n",
    "        # Get the number of filters in the layer\n",
    "        num_filters_in_layer = layer_activation.shape[-1]\n",
    "        # Plot the first `num_filters` filters\n",
    "        for filter_idx in range( 10):\n",
    "            # Create directories for layer and filter\n",
    "            layer_dir = os.path.join(output_dir, f'layer_{layer_number}')\n",
    "            filter_dir = os.path.join(layer_dir, f'filter_{filter_idx}')\n",
    "            if not os.path.exists(filter_dir):\n",
    "                os.makedirs(filter_dir)\n",
    "            \n",
    "            plt.figure(figsize=(20, 20))\n",
    "            plt.title(f'Frame {frame_idx}, Layer {layer_number}, Filter {filter_idx}')\n",
    "            plt.imshow(layer_activation[0, :, :, filter_idx], cmap='viridis')\n",
    "            plt.axis('off')\n",
    "            save_path = os.path.join(filter_dir, f'frame_{frame_idx}.png')\n",
    "            plt.savefig(save_path)\n",
    "            plt.close()\n",
    "\n",
    "# Example usage\n",
    "plot_activations(activations, \"frame_plots\", layer_number=4)"
   ]
  },
  {
   "cell_type": "code",
   "execution_count": null,
   "metadata": {},
   "outputs": [],
   "source": [
    "from scipy.signal import detrend,butter,filtfilt\n",
    "from scipy.ndimage import gaussian_filter1d\n",
    "def highpass_filter(data, cutoff, fs, order=5):\n",
    "    nyquist = 0.5 * fs\n",
    "    normal_cutoff = cutoff / nyquist\n",
    "    b, a = butter(order, normal_cutoff, btype='high', analog=False)\n",
    "    y = filtfilt(b, a, data)\n",
    "    return y"
   ]
  },
  {
   "cell_type": "code",
   "execution_count": null,
   "metadata": {},
   "outputs": [],
   "source": [
    "def normalize_activations(activations, num_filters):\n",
    "    \n",
    "    all_activations = np.array([layer_activation[0, :, :, :num_filters].mean(axis=(0, 1)) for layer_activation in activations])\n",
    "    mean_activations = all_activations.mean(axis=0)\n",
    "    std_activations = all_activations.std(axis=0)\n",
    "\n",
    "    normalized_activations = [(layer_activation[0, :, :, :num_filters] - mean_activations) / std_activations for layer_activation in activations]\n",
    "    return normalized_activations\n",
    "\n",
    "def normalize_activations_by_filter(activations):\n",
    "    filter_mean = activations.mean()\n",
    "    filter_std = activations.std()\n",
    "    \n",
    "    normalized_activations = (activations - filter_mean) / filter_std\n",
    "    return normalized_activations"
   ]
  },
  {
   "cell_type": "code",
   "execution_count": null,
   "metadata": {},
   "outputs": [],
   "source": [
    "import os\n",
    "import numpy as np\n",
    "import matplotlib.pyplot as plt\n",
    "\n",
    "def frequency_analysis(activations, output_dir, layer_number, num_filters=10, fps=30,cutoff=1):\n",
    "    if not os.path.exists(output_dir):\n",
    "        os.makedirs(output_dir)\n",
    "    \n",
    "    layer_activations = [frame_activations[layer_number] for frame_activations in activations]\n",
    "    num_frames = len(layer_activations)\n",
    "    \n",
    "    # Normalize activations\n",
    "    #layer_activations = normalize_activations(layer_activations, num_filters)\n",
    "\n",
    "    plt.figure(figsize=(10, 5))\n",
    "    \n",
    "    for filter_idx in range(num_filters):\n",
    "        filter_activations = [layer_activation[0, :, :, filter_idx].mean() for layer_activation in layer_activations]\n",
    "        filter_activations = np.array(filter_activations)\n",
    "        #apply highpass filter\n",
    "        filter_activations = highpass_filter(filter_activations, cutoff=cutoff, fs=fps)\n",
    "\n",
    "        # Normalize activations by filter\n",
    "        filter_activations = normalize_activations_by_filter(filter_activations)\n",
    "\n",
    "        # Compute FFT\n",
    "        fft_result = np.fft.fft(filter_activations)\n",
    "        freqs = np.fft.fftfreq(num_frames, d=1/fps)\n",
    "        \n",
    "        # Plot frequency spectrum\n",
    "        plt.plot(freqs[0:num_frames // 2], np.abs(fft_result)[0:num_frames // 2], label=f'Filter {filter_idx}')\n",
    "    \n",
    "    plt.title(f'Frequency Analysis - Layer {layer_number}')\n",
    "    plt.xlabel('Frequency (Hz)')\n",
    "    plt.ylabel('Magnitude')\n",
    "    plt.grid(True)\n",
    "    plt.legend()\n",
    "    save_path = os.path.join(output_dir, f'layer_{layer_number}_frequency.png')\n",
    "    plt.savefig(save_path)\n",
    "    plt.close()\n",
    "\n",
    "# Example usage\n",
    "# Assuming `activations` is already defined and contains the activations for each frame\n",
    "frequency_analysis(activations, \"frequency_analysis\", layer_number=4, num_filters=10, fps=30,cutoff=1)"
   ]
  },
  {
   "cell_type": "code",
   "execution_count": null,
   "metadata": {},
   "outputs": [],
   "source": []
  }
 ],
 "metadata": {
  "colab": {
   "name": "notebook2f55f2e572",
   "provenance": []
  },
  "kaggle": {
   "accelerator": "gpu",
   "dataSources": [
    {
     "datasetId": 6302,
     "sourceId": 9896,
     "sourceType": "datasetVersion"
    },
    {
     "datasetId": 8782,
     "sourceId": 2431805,
     "sourceType": "datasetVersion"
    }
   ],
   "dockerImageVersionId": 29980,
   "isGpuEnabled": true,
   "isInternetEnabled": false,
   "language": "python",
   "sourceType": "notebook"
  },
  "kernelspec": {
   "display_name": "Python 3",
   "language": "python",
   "name": "python3"
  },
  "language_info": {
   "codemirror_mode": {
    "name": "ipython",
    "version": 3
   },
   "file_extension": ".py",
   "mimetype": "text/x-python",
   "name": "python",
   "nbconvert_exporter": "python",
   "pygments_lexer": "ipython3",
   "version": "3.9.6"
  }
 },
 "nbformat": 4,
 "nbformat_minor": 0
}
